{
 "cells": [
  {
   "cell_type": "code",
   "execution_count": 1,
   "id": "51940c79-034f-46dc-a5ad-1fcfa6b04cbb",
   "metadata": {},
   "outputs": [
    {
     "name": "stdout",
     "output_type": "stream",
     "text": [
      " | | \n",
      "-+-+-\n",
      " | | \n",
      "-+-+-\n",
      " | | \n",
      "Enter your move(X)\n"
     ]
    },
    {
     "name": "stdin",
     "output_type": "stream",
     "text": [
      " top-l\n"
     ]
    },
    {
     "name": "stdout",
     "output_type": "stream",
     "text": [
      "X| | \n",
      "-+-+-\n",
      " | | \n",
      "-+-+-\n",
      " | | \n",
      "Enter your move(O)\n"
     ]
    },
    {
     "name": "stdin",
     "output_type": "stream",
     "text": [
      " med-r\n"
     ]
    },
    {
     "name": "stdout",
     "output_type": "stream",
     "text": [
      "X| | \n",
      "-+-+-\n",
      " | |O\n",
      "-+-+-\n",
      " | | \n",
      "Enter your move(X)\n"
     ]
    },
    {
     "name": "stdin",
     "output_type": "stream",
     "text": [
      " low-r\n"
     ]
    },
    {
     "name": "stdout",
     "output_type": "stream",
     "text": [
      "X| | \n",
      "-+-+-\n",
      " | |O\n",
      "-+-+-\n",
      " | |X\n",
      "Enter your move(O)\n"
     ]
    },
    {
     "name": "stdin",
     "output_type": "stream",
     "text": [
      " med-l\n"
     ]
    },
    {
     "name": "stdout",
     "output_type": "stream",
     "text": [
      "X| | \n",
      "-+-+-\n",
      "O| |O\n",
      "-+-+-\n",
      " | |X\n",
      "Enter your move(X)\n"
     ]
    },
    {
     "name": "stdin",
     "output_type": "stream",
     "text": [
      " med-m\n"
     ]
    },
    {
     "name": "stdout",
     "output_type": "stream",
     "text": [
      "Congrats | X | you have won the game.\n"
     ]
    }
   ],
   "source": [
    "theBoard = {'top-l':' ','top-m':' ','top-r':' ',\n",
    "            'med-l':' ','med-m':' ','med-r':' ',\n",
    "            'low-l':' ','low-m':' ','low-r':' '}\n",
    "def myBoard(values):\n",
    "    print(values['top-l'] + '|' + values['top-m'] + '|' + values['top-r'])\n",
    "    print('-+-+-')\n",
    "    print(values['med-l'] + '|' + values['med-m'] + '|' + values['med-r'])\n",
    "    print('-+-+-')\n",
    "    print(values['low-l'] + '|' + values['low-m'] + '|' + values['low-r'])\n",
    "turn = 'X'\n",
    "\n",
    "for i in range(1,10,1):\n",
    "    if (theBoard['top-l'] == theBoard['top-m'] == theBoard['top-r'] != ' '):\n",
    "        print(f'Congrats | {theBoard[\"top-l\"]} | you have won the game.')\n",
    "        break\n",
    "    elif (theBoard['med-l'] == theBoard['med-m'] == theBoard['med-r'] != ' '):\n",
    "        print(f'Congrats | {theBoard[\"med-l\"]} | you have won the game.')\n",
    "        break\n",
    "    elif (theBoard['low-l'] == theBoard['low-m'] == theBoard['low-r'] != ' '):\n",
    "        print(f'Congrats | {theBoard[\"low-l\"]} | you have won the game.')\n",
    "        break\n",
    "    elif (theBoard['low-l'] == theBoard['med-m'] == theBoard['top-r'] != ' '):\n",
    "        print(f'Congrats | {theBoard[\"low-l\"]} | you have won the game.')\n",
    "        break\n",
    "    elif (theBoard['low-r'] == theBoard['med-m'] == theBoard['top-l'] != ' '):\n",
    "        print(f'Congrats | {theBoard[\"low-r\"]} | you have won the game.')\n",
    "        break\n",
    "    myBoard(theBoard)\n",
    "    print(f'Enter your move({turn})')\n",
    "    theBoard[input()] = turn\n",
    "    if turn == 'X':\n",
    "        turn = 'O'\n",
    "    else:\n",
    "        turn = 'X'"
   ]
  },
  {
   "cell_type": "code",
   "execution_count": null,
   "id": "f4508f1f-c386-4ed5-96c3-b3f16df75704",
   "metadata": {},
   "outputs": [],
   "source": []
  }
 ],
 "metadata": {
  "kernelspec": {
   "display_name": "Python 3 (ipykernel)",
   "language": "python",
   "name": "python3"
  },
  "language_info": {
   "codemirror_mode": {
    "name": "ipython",
    "version": 3
   },
   "file_extension": ".py",
   "mimetype": "text/x-python",
   "name": "python",
   "nbconvert_exporter": "python",
   "pygments_lexer": "ipython3",
   "version": "3.11.7"
  }
 },
 "nbformat": 4,
 "nbformat_minor": 5
}
